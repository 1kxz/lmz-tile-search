{
 "cells": [
  {
   "cell_type": "code",
   "execution_count": 1,
   "id": "2b725006",
   "metadata": {},
   "outputs": [
    {
     "name": "stdout",
     "output_type": "stream",
     "text": [
      "missing tags in 4_Bedroom_Singles, 25_Shooting_Range_Singles, 23_Television_and_Film_Studio_S, 9_Fishing_Singles, 20_Japanese_Interiors_Singles, 12_Kitchen_Singles, 14_Basement_Singles, 16_Grocery_Store_Singles, 5_Classroom_and_Library_Singles, 19_Hospital_SIngles, 18_Jail_Singles, 6_Music_and_Sport, 21_Clothing_Store_Singles, 10_Birthday_Party_Singles, 26_Condominium_Singles, 22_Museum_Singles, 15_Christmas_Singles, 24_Ice_Cream_Shop_Singles, 3_Bathroom_Singles, 13_Conference_Hall_Singles, 11_Halloween_Singles, 2_Living_Room_Singles\n"
     ]
    }
   ],
   "source": [
    "import json\n",
    "from openpyxl import load_workbook\n",
    "\n",
    "workbook = load_workbook('modern-interiors-tags.xlsx')\n",
    "\n",
    "errors = set() \n",
    "data = {}\n",
    "for sheet_name in workbook.sheetnames:\n",
    "    if sheet_name == \"Sheet1\":\n",
    "        continue\n",
    "    sheet = workbook[sheet_name]\n",
    "    for row in sheet.iter_rows():\n",
    "        try:\n",
    "            file_name = row[0].value\n",
    "            data[file_name] = [x.strip() for x in row[2].value.split(\",\")]\n",
    "        except:\n",
    "            errors.add(sheet_name)\n",
    "\n",
    "print(f\"missing tags in {', '.join(errors)}\")\n",
    "\n",
    "with open(\"tags.json\", \"w\") as f:\n",
    "    json.dump(data, f)"
   ]
  },
  {
   "cell_type": "code",
   "execution_count": null,
   "id": "ed7c3c37",
   "metadata": {},
   "outputs": [],
   "source": []
  }
 ],
 "metadata": {
  "kernelspec": {
   "display_name": "Python 3 (ipykernel)",
   "language": "python",
   "name": "python3"
  },
  "language_info": {
   "codemirror_mode": {
    "name": "ipython",
    "version": 3
   },
   "file_extension": ".py",
   "mimetype": "text/x-python",
   "name": "python",
   "nbconvert_exporter": "python",
   "pygments_lexer": "ipython3",
   "version": "3.11.3"
  }
 },
 "nbformat": 4,
 "nbformat_minor": 5
}
