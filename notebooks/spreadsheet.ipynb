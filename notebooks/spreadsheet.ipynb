{
 "cells": [
  {
   "cell_type": "code",
   "execution_count": null,
   "id": "6f6c5860",
   "metadata": {},
   "outputs": [],
   "source": [
    "import json\n",
    "from openpyxl import Workbook\n",
    "import os\n",
    "import re\n",
    "import collections\n",
    "\n",
    "BASE_URL = \"https://lmztiles.s3.eu-west-1.amazonaws.com\"\n",
    "\n",
    "\n",
    "with open('../dist/Modern_Interiors_v41.3.4.json', 'r') as f:\n",
    "    data = json.load(f)\n",
    "\n",
    "theme_records = collections.defaultdict(list)\n",
    "for image in data.values():\n",
    "    path = image['path']\n",
    "    if 'Theme_Sorter_Singles' not in path:\n",
    "        continue\n",
    "    theme = path.split('/')[4]\n",
    "    theme_records[theme].append((\n",
    "        os.path.basename(path),\n",
    "        f'=IMAGE(\"{BASE_URL}/{path}\")',\n",
    "    ))\n",
    "    \n",
    "def natural_sort_key(s):\n",
    "    parts = re.split(r'(\\d+)', s)\n",
    "    return [int(part) if part.isdigit() else part for part in parts]\n",
    "\n",
    "workbook = Workbook()\n",
    "for theme, records in theme_records.items():\n",
    "    records = sorted(records, key=lambda x: natural_sort_key(x[0]))\n",
    "    sheet = workbook.create_sheet(theme)\n",
    "    for row in records:\n",
    "        sheet.append(row)\n",
    "\n",
    "with open(f'../dist/modern-interiors.xlsx', 'wb') as f:\n",
    "    workbook.save(f)\n"
   ]
  },
  {
   "cell_type": "code",
   "execution_count": null,
   "id": "e3d60f5f",
   "metadata": {},
   "outputs": [],
   "source": []
  }
 ],
 "metadata": {
  "kernelspec": {
   "display_name": "Python 3 (ipykernel)",
   "language": "python",
   "name": "python3"
  },
  "language_info": {
   "codemirror_mode": {
    "name": "ipython",
    "version": 3
   },
   "file_extension": ".py",
   "mimetype": "text/x-python",
   "name": "python",
   "nbconvert_exporter": "python",
   "pygments_lexer": "ipython3",
   "version": "3.11.3"
  }
 },
 "nbformat": 4,
 "nbformat_minor": 5
}
