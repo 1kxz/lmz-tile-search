{
 "cells": [
  {
   "cell_type": "code",
   "execution_count": 1,
   "id": "79772647",
   "metadata": {},
   "outputs": [],
   "source": [
    "import cv2\n",
    "import json\n",
    "import numpy as np\n",
    "import matplotlib.pyplot as plt\n",
    "from IPython.display import display, Markdown\n",
    "from scipy.spatial import KDTree\n",
    "\n",
    "%matplotlib inline"
   ]
  },
  {
   "cell_type": "code",
   "execution_count": 2,
   "id": "e0816f75",
   "metadata": {},
   "outputs": [
    {
     "data": {
      "text/markdown": [
       "<b style=\"color:rgb(0, 0, 0); background: #eee\" title=\"rgb(0, 0, 0)\">██ black</b>"
      ],
      "text/plain": [
       "<IPython.core.display.Markdown object>"
      ]
     },
     "metadata": {},
     "output_type": "display_data"
    },
    {
     "data": {
      "text/markdown": [
       "<b style=\"color:rgb(80, 167, 232); background: #eee\" title=\"rgb(80, 167, 232)\">██ blue</b>"
      ],
      "text/plain": [
       "<IPython.core.display.Markdown object>"
      ]
     },
     "metadata": {},
     "output_type": "display_data"
    },
    {
     "data": {
      "text/markdown": [
       "<b style=\"color:rgb(136, 124, 164); background: #eee\" title=\"rgb(136, 124, 164)\">██ purple</b>"
      ],
      "text/plain": [
       "<IPython.core.display.Markdown object>"
      ]
     },
     "metadata": {},
     "output_type": "display_data"
    },
    {
     "data": {
      "text/markdown": [
       "<b style=\"color:rgb(155, 194, 70); background: #eee\" title=\"rgb(155, 194, 70)\">██ green</b>"
      ],
      "text/plain": [
       "<IPython.core.display.Markdown object>"
      ]
     },
     "metadata": {},
     "output_type": "display_data"
    },
    {
     "data": {
      "text/markdown": [
       "<b style=\"color:rgb(169, 118, 79); background: #eee\" title=\"rgb(169, 118, 79)\">██ brown</b>"
      ],
      "text/plain": [
       "<IPython.core.display.Markdown object>"
      ]
     },
     "metadata": {},
     "output_type": "display_data"
    },
    {
     "data": {
      "text/markdown": [
       "<b style=\"color:rgb(172, 175, 191); background: #eee\" title=\"rgb(172, 175, 191)\">██ gray</b>"
      ],
      "text/plain": [
       "<IPython.core.display.Markdown object>"
      ]
     },
     "metadata": {},
     "output_type": "display_data"
    },
    {
     "data": {
      "text/markdown": [
       "<b style=\"color:rgb(230, 63, 56); background: #eee\" title=\"rgb(230, 63, 56)\">██ red</b>"
      ],
      "text/plain": [
       "<IPython.core.display.Markdown object>"
      ]
     },
     "metadata": {},
     "output_type": "display_data"
    },
    {
     "data": {
      "text/markdown": [
       "<b style=\"color:rgb(232, 141, 173); background: #eee\" title=\"rgb(232, 141, 173)\">██ pink</b>"
      ],
      "text/plain": [
       "<IPython.core.display.Markdown object>"
      ]
     },
     "metadata": {},
     "output_type": "display_data"
    },
    {
     "data": {
      "text/markdown": [
       "<b style=\"color:rgb(242, 178, 43); background: #eee\" title=\"rgb(242, 178, 43)\">██ yellow</b>"
      ],
      "text/plain": [
       "<IPython.core.display.Markdown object>"
      ]
     },
     "metadata": {},
     "output_type": "display_data"
    },
    {
     "data": {
      "text/markdown": [
       "<b style=\"color:rgb(254, 252, 254); background: #eee\" title=\"rgb(254, 252, 254)\">██ white</b>"
      ],
      "text/plain": [
       "<IPython.core.display.Markdown object>"
      ]
     },
     "metadata": {},
     "output_type": "display_data"
    },
    {
     "data": {
      "image/png": "[encoded data removed]",
      "text/plain": [
       "<Figure size 640x480 with 2 Axes>"
      ]
     },
     "metadata": {},
     "output_type": "display_data"
    }
   ],
   "source": [
    "fig, axes = plt.subplots(1, 2)\n",
    "\n",
    "palette = cv2.imread(\"dist/modernexteriors-win/Palette.png\", cv2.IMREAD_UNCHANGED)\n",
    "palette = cv2.cvtColor(palette, cv2.COLOR_BGR2RGBA)\n",
    "axes[0].imshow(palette)\n",
    "\n",
    "simplified = cv2.imread(\"palette.png\", cv2.IMREAD_UNCHANGED)\n",
    "simplified = cv2.cvtColor(simplified, cv2.COLOR_BGR2RGBA)\n",
    "axes[1].imshow(simplified)\n",
    "\n",
    "flat = simplified.reshape(-1, simplified.shape[2])\n",
    "rgbs = flat[flat[:,3] == 255][:,:3]\n",
    "unique_colors = np.unique(rgbs, axis=0)\n",
    "\n",
    "color_names = {\n",
    "    (242, 178, 43): \"yellow\",\n",
    "    (230, 63, 56): \"red\",\n",
    "    (155, 194, 70): \"green\",\n",
    "    (169, 118, 79): \"brown\", \n",
    "    (136, 124, 164): \"purple\",\n",
    "    (232, 141, 173): \"pink\", \n",
    "    (172, 175, 191): \"gray\",\n",
    "    (80, 167, 232): \"blue\",\n",
    "    (254, 252, 254): \"white\",\n",
    "    (0, 0, 0): \"black\",\n",
    "}\n",
    "\n",
    "for r, g, b in unique_colors:\n",
    "    css = f\"rgb({r}, {g}, {b})\"\n",
    "    name = color_names[r, g, b]\n",
    "    display(Markdown(f'<b style=\"color:{css}; background: #eee\" title=\"{css}\">██ {name}</b>'))"
   ]
  },
  {
   "cell_type": "code",
   "execution_count": 3,
   "id": "6d6b3a24",
   "metadata": {},
   "outputs": [
    {
     "data": {
      "text/plain": [
       "174"
      ]
     },
     "execution_count": 3,
     "metadata": {},
     "output_type": "execute_result"
    }
   ],
   "source": [
    "palette_labels = {}\n",
    "\n",
    "for x in range(palette.shape[0]):\n",
    "    for y in range(palette.shape[1]):\n",
    "        p = tuple(palette[x, y])\n",
    "        if p[3] == 255:\n",
    "            s = tuple(simplified[x, y])\n",
    "            palette_labels[p[:3]] = color_names[s[:3]]\n",
    "            \n",
    "with open(\"dist/palette_labels.json\", \"w\") as f:\n",
    "    json.dump({str(k): v for k, v in palette_labels.items()}, f)\n",
    "\n",
    "len(palette_labels)"
   ]
  },
  {
   "cell_type": "code",
   "execution_count": 4,
   "id": "2873c326",
   "metadata": {},
   "outputs": [
    {
     "data": {
      "text/plain": [
       "<matplotlib.image.AxesImage at 0x7faf26f4bdf0>"
      ]
     },
     "execution_count": 4,
     "metadata": {},
     "output_type": "execute_result"
    },
    {
     "data": {
      "image/png": "[encoded data removed]",
      "text/plain": [
       "<Figure size 640x480 with 1 Axes>"
      ]
     },
     "metadata": {},
     "output_type": "display_data"
    }
   ],
   "source": [
    "path = (\n",
    "    \"dist/modernexteriors-win/Modern_Exteriors_16x16/\"\n",
    "    \"ME_Theme_Sorter_16x16/7_Villas_Singles_16x16/\"\n",
    "#     \"ME_Singles_Villas_16x16_Tree_House_1.png\"\n",
    "#     \"ME_Singles_Villas_16x16_Picnic_5.png\"\n",
    "    \"ME_Singles_Villas_16x16_Hanging_Flowers_4.png\"\n",
    ")\n",
    "a = cv2.imread(path, cv2.IMREAD_UNCHANGED)\n",
    "a = cv2.cvtColor(a, cv2.COLOR_BGR2RGBA)\n",
    "plt.imshow(a)"
   ]
  },
  {
   "cell_type": "code",
   "execution_count": 15,
   "id": "3817ad12",
   "metadata": {},
   "outputs": [],
   "source": [
    "from collections import Counter\n",
    "\n",
    "palette_colors = list(palette_labels.keys())\n",
    "kdt = KDTree(palette_colors)\n",
    "get_label = lambda x: palette_labels[palette_colors[kdt.query(x)[1]]]\n",
    "\n",
    "def count_colors(img) -> Counter:\n",
    "    flat = img.reshape(-1, img.shape[2])\n",
    "    rgb = flat[flat[:,3] == 255][:,:3]\n",
    "    colors, counts = np.unique(rgb, axis=0, return_counts=True)\n",
    "    counter = Counter()\n",
    "    for color, count in zip(colors, counts):\n",
    "        label = get_label(tuple(color))\n",
    "#         display(Markdown(f'<b style=\"color: rgb{color};\" title=\"{color}\">{label} ({count})</b>'))\n",
    "        match label:\n",
    "            case \"yellow\":\n",
    "                count *= 4 \n",
    "            case \"pink\":\n",
    "                count *= 4\n",
    "            case \"red\":\n",
    "                count *= 3\n",
    "            case \"blue\":\n",
    "                count *= 2\n",
    "            case other:\n",
    "                pass\n",
    "        counter[label] += count\n",
    "    return counter"
   ]
  },
  {
   "cell_type": "code",
   "execution_count": 18,
   "id": "fcd783ff",
   "metadata": {},
   "outputs": [
    {
     "name": "stdout",
     "output_type": "stream",
     "text": [
      "pink 120\n",
      "brown 95\n"
     ]
    }
   ],
   "source": [
    "c = count_colors(a)\n",
    "threshold = c.most_common()[0][1] * 0.7\n",
    "for color, count in c.most_common()[:3]:\n",
    "    if count < threshold:\n",
    "        break\n",
    "    print(color, count)"
   ]
  },
  {
   "cell_type": "code",
   "execution_count": null,
   "id": "f1ca4c1f",
   "metadata": {},
   "outputs": [],
   "source": []
  }
 ],
 "metadata": {
  "kernelspec": {
   "display_name": "Python 3 (ipykernel)",
   "language": "python",
   "name": "python3"
  },
  "language_info": {
   "codemirror_mode": {
    "name": "ipython",
    "version": 3
   },
   "file_extension": ".py",
   "mimetype": "text/x-python",
   "name": "python",
   "nbconvert_exporter": "python",
   "pygments_lexer": "ipython3",
   "version": "3.10.10"
  }
 },
 "nbformat": 4,
 "nbformat_minor": 5
}
